{
 "cells": [
  {
   "cell_type": "code",
   "execution_count": 1,
   "metadata": {},
   "outputs": [],
   "source": [
    "from config import api_key\n",
    "import requests\n",
    "import csv\n",
    "import pandas as pd\n",
    "import pprint\n",
    "import json\n",
    "import time "
   ]
  },
  {
   "cell_type": "code",
   "execution_count": 2,
   "metadata": {},
   "outputs": [
    {
     "name": "stdout",
     "output_type": "stream",
     "text": [
      "No location for tt15789038\n",
      "No location for tt9362722\n",
      "No location for tt14362112\n",
      "No location for tt6587046\n",
      "No location for tt4633694\n"
     ]
    }
   ],
   "source": [
    "# Get data from https://rapidapi.com/\n",
    "# title/get-filming-locations\n",
    "\n",
    "# load csv file\n",
    "url = \"https://imdb8.p.rapidapi.com/title/get-filming-locations\"\n",
    "\n",
    "titles = pd.read_csv(\"./Resources/IMDB_API_adventure100.csv\")\n",
    "locations = []\n",
    "\n",
    "for title in titles['title']:\n",
    "\ttime.sleep(0.5)\n",
    "\tquerystring = {\"tconst\":title}\n",
    "\theaders = {\n",
    "\t\t'x-rapidapi-key': api_key,\n",
    "\t\t'x-rapidapi-host': \"imdb8.p.rapidapi.com\"\n",
    "\t\t}\n",
    "\tresponse = requests.request(\"GET\", url, headers=headers, params=querystring)\n",
    "\tif 'locations' not in response.json():\n",
    "\t\tprint(f\"No location for {title}\")\n",
    "\telse:\n",
    "\t\tfor location in response.json()['locations']:\n",
    "\t\t\tlocationinfo={}\n",
    "\t\t\tlocationinfo['id'] = title\n",
    "\t\t\tlocationinfo['location_id'] = location['id']\n",
    "\t\t\tlocationinfo['location_name']=location['location']\n",
    "\t\t\tlocations.append(locationinfo)\n"
   ]
  },
  {
   "cell_type": "code",
   "execution_count": 3,
   "metadata": {},
   "outputs": [],
   "source": [
    "df=pd.DataFrame(locations)\n",
    "# reorder columns\n",
    "df=df[['id','location_id','location_name']]\n",
    "df.to_csv(\"./Resources/IMDB_API_adventure100_location.csv\", index=False, header=True)\n",
    "df.to_json(\"./Resources/IMDB_API_adventure100_location.json\", orient=\"records\")"
   ]
  }
 ],
 "metadata": {
  "kernelspec": {
   "display_name": "dev",
   "language": "python",
   "name": "python3"
  },
  "language_info": {
   "codemirror_mode": {
    "name": "ipython",
    "version": 3
   },
   "file_extension": ".py",
   "mimetype": "text/x-python",
   "name": "python",
   "nbconvert_exporter": "python",
   "pygments_lexer": "ipython3",
   "version": "3.10.12"
  }
 },
 "nbformat": 4,
 "nbformat_minor": 2
}
