{
 "cells": [
  {
   "cell_type": "code",
   "execution_count": 68,
   "metadata": {},
   "outputs": [],
   "source": [
    "import json\n",
    "import os\n",
    "import pandas as pd\n",
    "from pymongo import MongoClient"
   ]
  },
  {
   "cell_type": "code",
   "execution_count": 78,
   "metadata": {},
   "outputs": [],
   "source": [
    "# Define the folder path where your JSON files are located\n",
    "folder_path = \"Resources\"\n",
    "\n",
    "# Read the \"IMDB_API_adventure100_location_geoapify.json\" data\n",
    "geoapify_file_path = os.path.join(folder_path, \"IMDB_API_adventure100_location_geoapify.json\")\n",
    "with open(geoapify_file_path, 'r') as geoapify_file:\n",
    "    geoapify_data = json.load(geoapify_file)\n",
    "\n",
    "# Read the \"IMDB_API_adventure100_location.json\" data\n",
    "location_file_path = os.path.join(folder_path, \"IMDB_API_adventure100_location.json\")\n",
    "with open(location_file_path, 'r') as location_file:\n",
    "    location_data = json.load(location_file)\n",
    "\n",
    "# Create a combined JSON data with the desired fields\n",
    "combined_data = []\n",
    "for geoapify_entry, location_entry in zip(geoapify_data, location_data):\n",
    "    combined_entry = {\n",
    "        \"id\": location_entry.get(\"id\", None),\n",
    "        \"location_name\": geoapify_entry.get(\"location_name\", None),\n",
    "        \"lat\": geoapify_entry.get(\"lat\", None),\n",
    "        \"lon\": geoapify_entry.get(\"lon\", None),\n",
    "        \"location_id\": location_entry.get(\"location_id\", None)\n",
    "    }\n",
    "    combined_data.append(combined_entry)\n",
    "\n",
    "# Name of the combined JSON file\n",
    "combined_file_path = 'Resources/IMDB_combined_location_data.json'\n",
    "\n",
    "# Save the combined data to a single JSON file\n",
    "with open(combined_file_path, 'w') as combined_file:\n",
    "    json.dump(combined_data, combined_file)\n"
   ]
  },
  {
   "cell_type": "code",
   "execution_count": 82,
   "metadata": {},
   "outputs": [],
   "source": [
    "# Convert the combined data to a pandas DataFrame\n",
    "df = pd.DataFrame(combined_data)\n",
    "\n",
    "# Define the path for the CSV file\n",
    "csv_file_path = 'Resources/IMDB_combined_location_data.csv'\n",
    "\n",
    "# Save the DataFrame as a CSV file\n",
    "df.to_csv(csv_file_path, index=False)"
   ]
  },
  {
   "cell_type": "code",
   "execution_count": 80,
   "metadata": {},
   "outputs": [],
   "source": [
    "# Define the folder path where your JSON files are located\n",
    "folder_path = \"Resources\"\n",
    "\n",
    "# Define a dictionary to store the combined data\n",
    "movie_data = {}\n",
    "\n",
    "# List of JSON files with their corresponding fields\n",
    "json_files = [\n",
    "    {\n",
    "        \"file\": \"IMDB_API_adventure100_moiveinfo.json\",\n",
    "        \"fields\": [\"id\", \"image_url\", \"runningTimeInMinutes\", \"title\", \"titleType\", \"year\", \"genres\", \"releaseDate\"]\n",
    "    },\n",
    "    {\n",
    "        \"file\": \"IMDB_combined_location_data.json\",\n",
    "        \"fields\": [\"id\", \"location_name\", \"lat\", \"lon\", \"location_id\"]\n",
    "    },\n",
    "    {\n",
    "        \"file\": \"IMDB_API_adventure100_rating.json\",\n",
    "        \"fields\": [\"id\", \"canRate\", \"rating\", \"ratingCount\", \"topRank\", \"bottomRank\", \"ratingsHistograms\"]\n",
    "    },\n",
    "    {\n",
    "        \"file\": \"IMDB_API_adventure100_soundtrack.json\",\n",
    "        \"fields\": [\"id\", \"soundtracks_id\", \"soundtracks_name\", \"soundtracks_comment\"]\n",
    "    }\n",
    "]\n",
    "\n",
    "# Iterate through the JSON files and organize the data\n",
    "for json_file_info in json_files:\n",
    "    file_path = os.path.join(folder_path, json_file_info[\"file\"])\n",
    "    with open(file_path, 'r') as json_file:\n",
    "        data = json.load(json_file)\n",
    "        for entry in data:\n",
    "            movie_id = entry.get(\"id\")\n",
    "            if movie_id not in movie_data:\n",
    "                movie_data[movie_id] = {}\n",
    "            for field in json_file_info[\"fields\"]:\n",
    "                movie_data[movie_id][field] = entry.get(field, None)\n",
    "\n",
    "\n",
    "# Name of the combined JSON file\n",
    "combined_file_path = 'Resources/combined_data.json'\n",
    "\n",
    "# Save the combined data to a single JSON file\n",
    "with open(combined_file_path, 'w') as combined_file:\n",
    "    json.dump(list(movie_data.values()), combined_file)"
   ]
  },
  {
   "cell_type": "code",
   "execution_count": 81,
   "metadata": {},
   "outputs": [
    {
     "name": "stdout",
     "output_type": "stream",
     "text": [
      "Movie data loaded into MongoDB collection movies\n"
     ]
    }
   ],
   "source": [
    "# Load the combined JSON file into MongoDB\n",
    "client = MongoClient('localhost', 27017)  \n",
    "db = client['IMDB_MOVIES'] \n",
    "collection = db['movies']\n",
    "\n",
    "# Load the data into MongoDB\n",
    "with open(combined_file_path, 'r') as combined_file:\n",
    "    data = json.load(combined_file)\n",
    "    collection.insert_many(data)\n",
    "\n",
    "print(f'Movie data loaded into MongoDB collection {collection.name}')"
   ]
  }
 ],
 "metadata": {
  "kernelspec": {
   "display_name": "dev",
   "language": "python",
   "name": "python3"
  },
  "language_info": {
   "codemirror_mode": {
    "name": "ipython",
    "version": 3
   },
   "file_extension": ".py",
   "mimetype": "text/x-python",
   "name": "python",
   "nbconvert_exporter": "python",
   "pygments_lexer": "ipython3",
   "version": "3.10.13"
  },
  "orig_nbformat": 4
 },
 "nbformat": 4,
 "nbformat_minor": 2
}
