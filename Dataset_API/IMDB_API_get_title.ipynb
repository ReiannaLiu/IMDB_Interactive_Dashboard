{
 "cells": [
  {
   "cell_type": "code",
   "execution_count": 4,
   "metadata": {},
   "outputs": [],
   "source": [
    "from config import api_key\n",
    "import requests\n",
    "import csv\n",
    "import pandas as pd\n",
    "import time"
   ]
  },
  {
   "cell_type": "code",
   "execution_count": 11,
   "metadata": {},
   "outputs": [],
   "source": [
    "# Get data from https://rapidapi.com/\n",
    "# title/v2/get-popular-movies-by-genre\n",
    "# adventure, 100 movies\n",
    "\n",
    "url = \"https://imdb8.p.rapidapi.com/title/v2/get-popular-movies-by-genre\"\n",
    "\n",
    "genres= ['action','adventure','animation','biography','comedy','crime','documentary','drama','family','fantasy','film-noir','game-show','history','horror','music','musical','mystery','news','reality-tv','romance','sci-fi','short','sport','talk-show','thriller','war','western']\n",
    "moives=[]\n",
    "for genre in genres:\n",
    "\n",
    "\tquerystring = {\"genre\":genre,\"limit\":\"100\"}\n",
    "\theaders = {\n",
    "\t\t'x-rapidapi-host': \"imdb8.p.rapidapi.com\",\n",
    "\t\t'x-rapidapi-key': api_key\n",
    "\t\t}\n",
    "\tresponse = requests.request(\"GET\", url, headers=headers, params=querystring)\n",
    "\tfor i in response.json():\n",
    "\t\tmoives.append(i)\n",
    "\n",
    "\ttime.sleep(1)\n",
    "\n",
    "\n",
    "\n",
    "\n"
   ]
  },
  {
   "cell_type": "code",
   "execution_count": 14,
   "metadata": {},
   "outputs": [],
   "source": [
    "\n",
    "# export the data in pf\n",
    "db = pd.DataFrame(moives)\n",
    "# set haeader as 'title'\n",
    "\n",
    "db.head()\n",
    "db.columns = ['title']\n",
    "# remove the prefix\n",
    "db['title'] = db['title'].str.replace('/title/', '')\n",
    "db['title'] = db['title'].str.replace('/', '')\n",
    "\n",
    "# unique the title\n",
    "db = db.drop_duplicates(subset=['title'], keep='first')\n",
    "# export to csv\n",
    "db.to_csv('./Resources/IMDB_API_100.csv', index=False)\n",
    "db.to_json('./Resources/IMDB_API_100.json', orient='records')\n"
   ]
  }
 ],
 "metadata": {
  "kernelspec": {
   "display_name": "dev",
   "language": "python",
   "name": "python3"
  },
  "language_info": {
   "codemirror_mode": {
    "name": "ipython",
    "version": 3
   },
   "file_extension": ".py",
   "mimetype": "text/x-python",
   "name": "python",
   "nbconvert_exporter": "python",
   "pygments_lexer": "ipython3",
   "version": "3.10.12"
  }
 },
 "nbformat": 4,
 "nbformat_minor": 2
}
