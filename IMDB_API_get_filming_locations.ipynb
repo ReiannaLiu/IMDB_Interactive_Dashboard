{
 "cells": [
  {
   "cell_type": "code",
   "execution_count": 2,
   "metadata": {},
   "outputs": [],
   "source": [
    "from config import api_key\n",
    "import requests\n",
    "import csv\n",
    "import pandas as pd"
   ]
  },
  {
   "cell_type": "code",
   "execution_count": 3,
   "metadata": {},
   "outputs": [
    {
     "name": "stdout",
     "output_type": "stream",
     "text": [
      "['/title/tt11858890/', '/title/tt1517268/', '/title/tt9224104/', '/title/tt9603212/', '/title/tt4495098/', '/title/tt15789038/', '/title/tt3291150/', '/title/tt15837338/', '/title/tt9362930/', '/title/tt8589698/', '/title/tt5971474/', '/title/tt9362722/', '/title/tt0241527/', '/title/tt2906216/', '/title/tt11304740/', '/title/tt6791350/', '/title/tt1462764/', '/title/tt1160419/', '/title/tt10545296/', '/title/tt0816692/', '/title/tt0439572/', '/title/tt5433140/', '/title/tt12261776/', '/title/tt15153532/', '/title/tt1136617/', '/title/tt13287846/', '/title/tt6718170/', '/title/tt23026954/', '/title/tt6710474/', '/title/tt15239678/', '/title/tt0172495/', '/title/tt0120737/', '/title/tt1375666/', '/title/tt5090568/', '/title/tt1630029/', '/title/tt0330373/', '/title/tt10676048/', '/title/tt13086266/', '/title/tt0361748/', '/title/tt1392170/', '/title/tt0320661/', '/title/tt3228774/', '/title/tt11866324/', '/title/tt0363771/', '/title/tt1201607/', '/title/tt3748528/', '/title/tt0173886/', '/title/tt0088763/', '/title/tt6208148/', '/title/tt0304141/', '/title/tt1392190/', '/title/tt0089218/', '/title/tt10872600/', '/title/tt6264654/', '/title/tt0093779/', '/title/tt0325980/', '/title/tt9663764/', '/title/tt4154796/', '/title/tt2802144/', '/title/tt0293429/', '/title/tt2278388/', '/title/tt0092005/', '/title/tt0107290/', '/title/tt0295297/', '/title/tt1320253/', '/title/tt14362112/', '/title/tt0076759/', '/title/tt15326988/', '/title/tt0167260/', '/title/tt0317219/', '/title/tt1446714/', '/title/tt6334354/', '/title/tt10308928/', '/title/tt0073195/', '/title/tt2333784/', '/title/tt0090605/', '/title/tt0870154/', '/title/tt0110357/', '/title/tt9218128/', '/title/tt0052618/', '/title/tt4513678/', '/title/tt1921064/', '/title/tt1470827/', '/title/tt6587046/', '/title/tt0435625/', '/title/tt0432283/', '/title/tt14998742/', '/title/tt4633694/', '/title/tt0120616/', '/title/tt0120915/', '/title/tt2404435/', '/title/tt2382320/', '/title/tt6166392/', '/title/tt1386697/', '/title/tt0062622/', '/title/tt0119116/', '/title/tt10954600/', '/title/tt1447981/', '/title/tt2015381/', '/title/tt0417741/']\n"
     ]
    }
   ],
   "source": [
    "# Get data from https://rapidapi.com/\n",
    "# title/get-filming-locations\n",
    "\n",
    "# load csv file\n",
    "url = \"https://imdb8.p.rapidapi.com/title/get-filming-locations\"\n",
    "\n",
    "querystring = {\"tconst\":\"tt0944947\"}\n",
    "\n",
    "headers = {\n",
    "\t\"X-RapidAPI-Key\": \"3fdcd767d1msh48d0aa4c8682884p1eba6fjsnc2a23a98e8b3\",\n",
    "\t\"X-RapidAPI-Host\": \"imdb8.p.rapidapi.com\"\n",
    "}\n",
    "\n",
    "response = requests.get(url, headers=headers, params=querystring)\n",
    "\n",
    "print(response.json())\n",
    "\n"
   ]
  }
 ],
 "metadata": {
  "kernelspec": {
   "display_name": "dev",
   "language": "python",
   "name": "python3"
  },
  "language_info": {
   "codemirror_mode": {
    "name": "ipython",
    "version": 3
   },
   "file_extension": ".py",
   "mimetype": "text/x-python",
   "name": "python",
   "nbconvert_exporter": "python",
   "pygments_lexer": "ipython3",
   "version": "3.10.12"
  }
 },
 "nbformat": 4,
 "nbformat_minor": 2
}
