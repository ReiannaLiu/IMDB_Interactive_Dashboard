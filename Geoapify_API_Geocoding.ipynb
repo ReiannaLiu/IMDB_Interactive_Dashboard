{
 "cells": [
  {
   "cell_type": "code",
   "execution_count": 1,
   "metadata": {},
   "outputs": [],
   "source": [
    "\n",
    "import requests\n",
    "from config import geoapify_key \n",
    "import csv\n",
    "import pandas as pd\n",
    "import pprint\n",
    "import json\n",
    "import time \n",
    "\n"
   ]
  },
  {
   "cell_type": "code",
   "execution_count": 2,
   "metadata": {},
   "outputs": [],
   "source": [
    "# get the data from the csv file\n",
    "csv_path = \"./Resources/IMDB_API_adventure100_location.csv\"\n",
    "df = pd.read_csv(csv_path)"
   ]
  },
  {
   "cell_type": "code",
   "execution_count": 4,
   "metadata": {},
   "outputs": [
    {
     "name": "stdout",
     "output_type": "stream",
     "text": [
      "{'query': {'parsed': {'city': 'helsetkopen',\n",
      "                      'country': 'norway',\n",
      "                      'expected_type': 'city',\n",
      "                      'state': 'møre og romsdal'},\n",
      "           'text': 'Helsetkopen, Møre og Romsdal, Norway'},\n",
      " 'results': [{'address_line1': 'Stranda, Helsetkopen',\n",
      "              'address_line2': 'Stranda, Møre and Romsdal, Norway',\n",
      "              'city': 'Stranda',\n",
      "              'country': 'Norway',\n",
      "              'country_code': 'no',\n",
      "              'datasource': {'attribution': '© OpenStreetMap contributors',\n",
      "                             'license': 'Open Database License',\n",
      "                             'sourcename': 'openstreetmap',\n",
      "                             'url': 'https://www.openstreetmap.org/copyright'},\n",
      "              'formatted': 'Stranda, Helsetkopen, Stranda, Møre and Romsdal, '\n",
      "                           'Norway',\n",
      "              'lat': 62.06,\n",
      "              'lon': 6.971944,\n",
      "              'name': 'Stranda, Helsetkopen',\n",
      "              'place_id': '51772cb64945e31b405948e17a14ae074f40f00103f901aba8584201000000c00201920314537472616e64612c2048656c7365746b6f70656ee203236f70656e7374726565746d61703a76656e75653a6e6f64652f35343038303733383939',\n",
      "              'plus_code': '9FJ83X6C+2Q',\n",
      "              'plus_code_short': '3X6C+2Q Stranda, Møre and Romsdal, Norway',\n",
      "              'rank': {'confidence': 0,\n",
      "                       'confidence_city_level': 0,\n",
      "                       'match_type': 'inner_part'},\n",
      "              'result_type': 'amenity',\n",
      "              'state': 'Møre and Romsdal',\n",
      "              'timezone': {'abbreviation_DST': 'CEST',\n",
      "                           'abbreviation_STD': 'CET',\n",
      "                           'name': 'Europe/Oslo',\n",
      "                           'name_alt': 'Europe/Berlin',\n",
      "                           'offset_DST': '+02:00',\n",
      "                           'offset_DST_seconds': 7200,\n",
      "                           'offset_STD': '+01:00',\n",
      "                           'offset_STD_seconds': 3600}}]}\n"
     ]
    }
   ],
   "source": [
    "text = \"Helsetkopen, Møre og Romsdal, Norway\"\n",
    "url = \"https://api.geoapify.com/v1/geocode/autocomplete?text=\"+text+\"&format=json&apiKey=\"+geoapify_key\n",
    "          \n",
    "response = requests.get(url)\n",
    "pprint.pprint(response.json())"
   ]
  },
  {
   "cell_type": "code",
   "execution_count": 5,
   "metadata": {},
   "outputs": [
    {
     "name": "stdout",
     "output_type": "stream",
     "text": [
      "62.06 6.971944\n"
     ]
    }
   ],
   "source": [
    "# get lat and lng from the response\n",
    "lat = response.json()[\"results\"][0][\"lat\"]\n",
    "lng = response.json()[\"results\"][0][\"lon\"]\n",
    "print(lat, lng)"
   ]
  }
 ],
 "metadata": {
  "kernelspec": {
   "display_name": "dev",
   "language": "python",
   "name": "python3"
  },
  "language_info": {
   "codemirror_mode": {
    "name": "ipython",
    "version": 3
   },
   "file_extension": ".py",
   "mimetype": "text/x-python",
   "name": "python",
   "nbconvert_exporter": "python",
   "pygments_lexer": "ipython3",
   "version": "3.10.12"
  }
 },
 "nbformat": 4,
 "nbformat_minor": 2
}
